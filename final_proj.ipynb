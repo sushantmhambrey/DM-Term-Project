{
  "nbformat": 4,
  "nbformat_minor": 0,
  "metadata": {
    "colab": {
      "name": "final_proj.ipynb",
      "provenance": [],
      "collapsed_sections": []
    },
    "kernelspec": {
      "name": "python3",
      "display_name": "Python 3"
    }
  },
  "cells": [
    {
      "cell_type": "markdown",
      "metadata": {
        "id": "30IgvWn8aCOJ",
        "colab_type": "text"
      },
      "source": [
        "<h1 >**Data Mining Project Spring 2020**</h1>\n",
        "<p>The purpose of the term project is to predict the ratings given a particular review. Throughout the implementation of the term project many models were tested and based on the various evaluation metrics a model was selected. The dataset is taken from Kaggle BGG review dataset . Due to the vast length of dataset Google Colaboratory was used as the implementation platform<p>"
      ]
    },
    {
      "cell_type": "code",
      "metadata": {
        "id": "8wBJXIcVZAg-",
        "colab_type": "code",
        "colab": {
          "base_uri": "https://localhost:8080/",
          "height": 35
        },
        "outputId": "146f139f-bcf1-474c-f373-673cb6982b9b"
      },
      "source": [
        "#Linking colab to google drive where the dataset is saved\n",
        "from google.colab import drive\n",
        "import zipfile\n",
        "#Mount the drive\n",
        "drive.mount('/content/gdrive')"
      ],
      "execution_count": 1,
      "outputs": [
        {
          "output_type": "stream",
          "text": [
            "Drive already mounted at /content/gdrive; to attempt to forcibly remount, call drive.mount(\"/content/gdrive\", force_remount=True).\n"
          ],
          "name": "stdout"
        }
      ]
    },
    {
      "cell_type": "markdown",
      "metadata": {
        "id": "262QgeMJbRvR",
        "colab_type": "text"
      },
      "source": [
        "Extracting tar file using zipfile module. We have a huge dataset (around 13 million rows)"
      ]
    },
    {
      "cell_type": "code",
      "metadata": {
        "id": "6agizGUhgeVo",
        "colab_type": "code",
        "colab": {}
      },
      "source": [
        "zip_ref = zipfile.ZipFile(\"/content/gdrive/My Drive/Colab Notebooks/bgg-13m-reviews.zip\", 'r')\n",
        "zip_ref.extractall(\"/tmp\")\n",
        "zip_ref.close()"
      ],
      "execution_count": 0,
      "outputs": []
    },
    {
      "cell_type": "markdown",
      "metadata": {
        "id": "OphmT_w7byUB",
        "colab_type": "text"
      },
      "source": [
        "<p> Importing the necessary libraries </p>"
      ]
    },
    {
      "cell_type": "code",
      "metadata": {
        "id": "KeNoaqvJn6ga",
        "colab_type": "code",
        "colab": {}
      },
      "source": [
        "import numpy as np\n",
        "import pandas as pd\n",
        "import string \n",
        "import re \n",
        "import nltk\n",
        "from sklearn.feature_extraction.text import CountVectorizer\n",
        "from sklearn.feature_extraction.text import TfidfVectorizer\n",
        "from sklearn.metrics import confusion_matrix\n",
        "from sklearn.metrics import plot_confusion_matrix\n",
        "import matplotlib.pyplot as plt"
      ],
      "execution_count": 0,
      "outputs": []
    },
    {
      "cell_type": "markdown",
      "metadata": {
        "id": "S21b-_6Tb4Xd",
        "colab_type": "text"
      },
      "source": [
        "Specifying the path where the csv file is stored"
      ]
    },
    {
      "cell_type": "code",
      "metadata": {
        "id": "6NCZEQYioPbq",
        "colab_type": "code",
        "colab": {}
      },
      "source": [
        "path='/tmp/bgg-13m-reviews.csv'"
      ],
      "execution_count": 0,
      "outputs": []
    },
    {
      "cell_type": "markdown",
      "metadata": {
        "id": "GqdFUx0nb9l2",
        "colab_type": "text"
      },
      "source": [
        "Reading the csv file as a data frame using the pandas module.In the read_csv we can specify nrows which indicates how many rows need to be read"
      ]
    },
    {
      "cell_type": "code",
      "metadata": {
        "id": "Ujmx1DuxoBNQ",
        "colab_type": "code",
        "colab": {}
      },
      "source": [
        "df = pd.read_csv(path, delimiter=',')\n",
        "nRow, nCol = df.shape\n",
        "#print(f'There are {nRow} rows and {nCol} columns')"
      ],
      "execution_count": 0,
      "outputs": []
    },
    {
      "cell_type": "markdown",
      "metadata": {
        "id": "Ms9PSeaTcWYF",
        "colab_type": "text"
      },
      "source": [
        "The first part of the project is just analysis of the data file to see how the ratings class is spread. The spread is quite lobsided toward a seven rating which is tackled later in the notebook. Textual data like the comment section of the BGG requires a considerable ammount of preprocessing. Cleaning techniques like removal of punctuation, returing string.lower() and removal of NaN values is used. "
      ]
    },
    {
      "cell_type": "code",
      "metadata": {
        "id": "hj9ct05Noo6g",
        "colab_type": "code",
        "colab": {}
      },
      "source": [
        "df=df.dropna()\n",
        "#print(df.count())"
      ],
      "execution_count": 0,
      "outputs": []
    },
    {
      "cell_type": "markdown",
      "metadata": {
        "id": "bKmBH8qkclYx",
        "colab_type": "text"
      },
      "source": [
        "Seeing how our data frame looks like.The two main columns we are going to use in the project are comment and rating."
      ]
    },
    {
      "cell_type": "code",
      "metadata": {
        "id": "vA2ODdWLos3q",
        "colab_type": "code",
        "outputId": "391de7d8-5452-49c4-9b99-99de3df60e85",
        "colab": {
          "base_uri": "https://localhost:8080/",
          "height": 202
        }
      },
      "source": [
        "df.head()"
      ],
      "execution_count": 7,
      "outputs": [
        {
          "output_type": "execute_result",
          "data": {
            "text/html": [
              "<div>\n",
              "<style scoped>\n",
              "    .dataframe tbody tr th:only-of-type {\n",
              "        vertical-align: middle;\n",
              "    }\n",
              "\n",
              "    .dataframe tbody tr th {\n",
              "        vertical-align: top;\n",
              "    }\n",
              "\n",
              "    .dataframe thead th {\n",
              "        text-align: right;\n",
              "    }\n",
              "</style>\n",
              "<table border=\"1\" class=\"dataframe\">\n",
              "  <thead>\n",
              "    <tr style=\"text-align: right;\">\n",
              "      <th></th>\n",
              "      <th>Unnamed: 0</th>\n",
              "      <th>user</th>\n",
              "      <th>rating</th>\n",
              "      <th>comment</th>\n",
              "      <th>ID</th>\n",
              "      <th>name</th>\n",
              "    </tr>\n",
              "  </thead>\n",
              "  <tbody>\n",
              "    <tr>\n",
              "      <th>2</th>\n",
              "      <td>2</td>\n",
              "      <td>dougthonus</td>\n",
              "      <td>10.0</td>\n",
              "      <td>Currently, this sits on my list as my favorite...</td>\n",
              "      <td>13</td>\n",
              "      <td>Catan</td>\n",
              "    </tr>\n",
              "    <tr>\n",
              "      <th>3</th>\n",
              "      <td>3</td>\n",
              "      <td>cypar7</td>\n",
              "      <td>10.0</td>\n",
              "      <td>I know it says how many plays, but many, many ...</td>\n",
              "      <td>13</td>\n",
              "      <td>Catan</td>\n",
              "    </tr>\n",
              "    <tr>\n",
              "      <th>7</th>\n",
              "      <td>7</td>\n",
              "      <td>hreimer</td>\n",
              "      <td>10.0</td>\n",
              "      <td>i will never tire of this game.. Awesome</td>\n",
              "      <td>13</td>\n",
              "      <td>Catan</td>\n",
              "    </tr>\n",
              "    <tr>\n",
              "      <th>11</th>\n",
              "      <td>11</td>\n",
              "      <td>daredevil</td>\n",
              "      <td>10.0</td>\n",
              "      <td>This is probably the best game I ever played. ...</td>\n",
              "      <td>13</td>\n",
              "      <td>Catan</td>\n",
              "    </tr>\n",
              "    <tr>\n",
              "      <th>16</th>\n",
              "      <td>16</td>\n",
              "      <td>hurkle</td>\n",
              "      <td>10.0</td>\n",
              "      <td>Fantastic game. Got me hooked on games all ove...</td>\n",
              "      <td>13</td>\n",
              "      <td>Catan</td>\n",
              "    </tr>\n",
              "  </tbody>\n",
              "</table>\n",
              "</div>"
            ],
            "text/plain": [
              "    Unnamed: 0        user  ...  ID   name\n",
              "2            2  dougthonus  ...  13  Catan\n",
              "3            3      cypar7  ...  13  Catan\n",
              "7            7     hreimer  ...  13  Catan\n",
              "11          11   daredevil  ...  13  Catan\n",
              "16          16      hurkle  ...  13  Catan\n",
              "\n",
              "[5 rows x 6 columns]"
            ]
          },
          "metadata": {
            "tags": []
          },
          "execution_count": 7
        }
      ]
    },
    {
      "cell_type": "code",
      "metadata": {
        "id": "yvBG_i4oefcR",
        "colab_type": "code",
        "colab": {
          "base_uri": "https://localhost:8080/",
          "height": 279
        },
        "outputId": "b12f1585-d97c-48cb-aee5-35f3bac360d8"
      },
      "source": [
        "df['rating'].hist(bins=10)\n",
        "plt.xlabel('rating of review')\n",
        "plt.ylabel('number of reviews')\n",
        "plt.show()"
      ],
      "execution_count": 6,
      "outputs": [
        {
          "output_type": "display_data",
          "data": {
            "image/png": "[encoded data removed]",
            "text/plain": [
              "<Figure size 432x288 with 1 Axes>"
            ]
          },
          "metadata": {
            "tags": [],
            "needs_background": "light"
          }
        }
      ]
    },
    {
      "cell_type": "code",
      "metadata": {
        "id": "mXxyBkpFefro",
        "colab_type": "code",
        "colab": {
          "base_uri": "https://localhost:8080/",
          "height": 612
        },
        "outputId": "4257f24f-a8f9-49b8-c778-1829ecbf757e"
      },
      "source": [
        "plt.figure(figsize=(20, 7))\n",
        "df['name'].value_counts()[:30].plot(kind='bar',color=\"skyblue\")\n",
        "plt.ylabel('Count of Rating')\n",
        "plt.title('Top 30 Rated Games')\n",
        "plt.show()"
      ],
      "execution_count": 7,
      "outputs": [
        {
          "output_type": "display_data",
          "data": {
            "image/png": "[encoded data removed]",
            "text/plain": [
              "<Figure size 1440x504 with 1 Axes>"
            ]
          },
          "metadata": {
            "tags": [],
            "needs_background": "light"
          }
        }
      ]
    },
    {
      "cell_type": "code",
      "metadata": {
        "id": "5Ofsc91apLlL",
        "colab_type": "code",
        "colab": {}
      },
      "source": [
        "from nltk.corpus import stopwords\n",
        "from sklearn.feature_extraction import text\n",
        "stop = text.ENGLISH_STOP_WORDS"
      ],
      "execution_count": 0,
      "outputs": []
    },
    {
      "cell_type": "markdown",
      "metadata": {
        "id": "rvCnPyfvc4s_",
        "colab_type": "text"
      },
      "source": [
        "Preprocessing the text. We remove white spaces, punctuations, stopwords and make the string lowercase"
      ]
    },
    {
      "cell_type": "code",
      "metadata": {
        "id": "jtM082X_owI3",
        "colab_type": "code",
        "colab": {}
      },
      "source": [
        "def remove_noise(text):\n",
        "    \n",
        "    text = text.apply(lambda x: \" \".join(x.lower() for x in x.split()))\n",
        "    \n",
        "    text = text.apply(lambda x: \" \".join(x.strip() for x in x.split()))\n",
        "    \n",
        "    text = text.str.replace('[^\\w\\s]', '')\n",
        "\n",
        "    text = text.apply(lambda x: ' '.join([word for word in x.split() if word not in (stop)]))\n",
        "        \n",
        "    return text\n",
        "df['comment'] = remove_noise(df['comment'])"
      ],
      "execution_count": 0,
      "outputs": []
    },
    {
      "cell_type": "markdown",
      "metadata": {
        "id": "BcSBeNykdFZI",
        "colab_type": "text"
      },
      "source": [
        "Checking the dataframe after cleaning"
      ]
    },
    {
      "cell_type": "code",
      "metadata": {
        "id": "w3Jwip1bqYdY",
        "colab_type": "code",
        "outputId": "f92fbdf5-b28a-4353-b6f8-1761274c6b94",
        "colab": {
          "base_uri": "https://localhost:8080/",
          "height": 202
        }
      },
      "source": [
        "df.head()\n",
        "#print(df.info())"
      ],
      "execution_count": 10,
      "outputs": [
        {
          "output_type": "execute_result",
          "data": {
            "text/html": [
              "<div>\n",
              "<style scoped>\n",
              "    .dataframe tbody tr th:only-of-type {\n",
              "        vertical-align: middle;\n",
              "    }\n",
              "\n",
              "    .dataframe tbody tr th {\n",
              "        vertical-align: top;\n",
              "    }\n",
              "\n",
              "    .dataframe thead th {\n",
              "        text-align: right;\n",
              "    }\n",
              "</style>\n",
              "<table border=\"1\" class=\"dataframe\">\n",
              "  <thead>\n",
              "    <tr style=\"text-align: right;\">\n",
              "      <th></th>\n",
              "      <th>Unnamed: 0</th>\n",
              "      <th>user</th>\n",
              "      <th>rating</th>\n",
              "      <th>comment</th>\n",
              "      <th>ID</th>\n",
              "      <th>name</th>\n",
              "    </tr>\n",
              "  </thead>\n",
              "  <tbody>\n",
              "    <tr>\n",
              "      <th>2</th>\n",
              "      <td>2</td>\n",
              "      <td>dougthonus</td>\n",
              "      <td>10.0</td>\n",
              "      <td>currently sits list favorite game</td>\n",
              "      <td>13</td>\n",
              "      <td>Catan</td>\n",
              "    </tr>\n",
              "    <tr>\n",
              "      <th>3</th>\n",
              "      <td>3</td>\n",
              "      <td>cypar7</td>\n",
              "      <td>10.0</td>\n",
              "      <td>know says plays uncounted liked version best</td>\n",
              "      <td>13</td>\n",
              "      <td>Catan</td>\n",
              "    </tr>\n",
              "    <tr>\n",
              "      <th>7</th>\n",
              "      <td>7</td>\n",
              "      <td>hreimer</td>\n",
              "      <td>10.0</td>\n",
              "      <td>tire game awesome</td>\n",
              "      <td>13</td>\n",
              "      <td>Catan</td>\n",
              "    </tr>\n",
              "    <tr>\n",
              "      <th>11</th>\n",
              "      <td>11</td>\n",
              "      <td>daredevil</td>\n",
              "      <td>10.0</td>\n",
              "      <td>probably best game played requires just thinki...</td>\n",
              "      <td>13</td>\n",
              "      <td>Catan</td>\n",
              "    </tr>\n",
              "    <tr>\n",
              "      <th>16</th>\n",
              "      <td>16</td>\n",
              "      <td>hurkle</td>\n",
              "      <td>10.0</td>\n",
              "      <td>fantastic game got hooked games</td>\n",
              "      <td>13</td>\n",
              "      <td>Catan</td>\n",
              "    </tr>\n",
              "  </tbody>\n",
              "</table>\n",
              "</div>"
            ],
            "text/plain": [
              "    Unnamed: 0        user  ...  ID   name\n",
              "2            2  dougthonus  ...  13  Catan\n",
              "3            3      cypar7  ...  13  Catan\n",
              "7            7     hreimer  ...  13  Catan\n",
              "11          11   daredevil  ...  13  Catan\n",
              "16          16      hurkle  ...  13  Catan\n",
              "\n",
              "[5 rows x 6 columns]"
            ]
          },
          "metadata": {
            "tags": []
          },
          "execution_count": 10
        }
      ]
    },
    {
      "cell_type": "code",
      "metadata": {
        "id": "ohPM7aHYgvmD",
        "colab_type": "code",
        "colab": {}
      },
      "source": [
        "def get_top_n_words(corpus, n=None):\n",
        "    vec = CountVectorizer(stop_words = 'english').fit(corpus)\n",
        "    bag_of_words = vec.transform(corpus)\n",
        "    sum_words = bag_of_words.sum(axis=0) \n",
        "    words_freq = [(word, sum_words[0, idx]) for word, idx in vec.vocabulary_.items()]\n",
        "    words_freq =sorted(words_freq, key = lambda x: x[1], reverse=True)\n",
        "    return words_freq[:n]\n",
        "common_words = get_top_n_words(df['comment'], 30)\n",
        "for word, freq in common_words:\n",
        "    #print(word, freq)\n",
        "  df2 = pd.DataFrame(common_words, columns = ['ReviewText' , 'count'])\n",
        "#df2.groupby('ReviewText').sum()['count'].sort_values(ascending=False).iplot(\n",
        "#kind='bar', yTitle='Count', linecolor='black', title='Top 20 words in review after removing stop words')\n"
      ],
      "execution_count": 0,
      "outputs": []
    },
    {
      "cell_type": "markdown",
      "metadata": {
        "id": "wES3Lja-j4Tc",
        "colab_type": "text"
      },
      "source": [
        "As we can see , after removing the stopwords these are our top 30 words"
      ]
    },
    {
      "cell_type": "code",
      "metadata": {
        "id": "-coB1VfQh1ia",
        "colab_type": "code",
        "colab": {
          "base_uri": "https://localhost:8080/",
          "height": 969
        },
        "outputId": "7dc4226e-10a8-44f3-b800-f2dc55fac3ed"
      },
      "source": [
        "df2"
      ],
      "execution_count": 112,
      "outputs": [
        {
          "output_type": "execute_result",
          "data": {
            "text/html": [
              "<div>\n",
              "<style scoped>\n",
              "    .dataframe tbody tr th:only-of-type {\n",
              "        vertical-align: middle;\n",
              "    }\n",
              "\n",
              "    .dataframe tbody tr th {\n",
              "        vertical-align: top;\n",
              "    }\n",
              "\n",
              "    .dataframe thead th {\n",
              "        text-align: right;\n",
              "    }\n",
              "</style>\n",
              "<table border=\"1\" class=\"dataframe\">\n",
              "  <thead>\n",
              "    <tr style=\"text-align: right;\">\n",
              "      <th></th>\n",
              "      <th>ReviewText</th>\n",
              "      <th>count</th>\n",
              "    </tr>\n",
              "  </thead>\n",
              "  <tbody>\n",
              "    <tr>\n",
              "      <th>0</th>\n",
              "      <td>game</td>\n",
              "      <td>2539119</td>\n",
              "    </tr>\n",
              "    <tr>\n",
              "      <th>1</th>\n",
              "      <td>play</td>\n",
              "      <td>743697</td>\n",
              "    </tr>\n",
              "    <tr>\n",
              "      <th>2</th>\n",
              "      <td>like</td>\n",
              "      <td>520940</td>\n",
              "    </tr>\n",
              "    <tr>\n",
              "      <th>3</th>\n",
              "      <td>fun</td>\n",
              "      <td>517789</td>\n",
              "    </tr>\n",
              "    <tr>\n",
              "      <th>4</th>\n",
              "      <td>good</td>\n",
              "      <td>398781</td>\n",
              "    </tr>\n",
              "    <tr>\n",
              "      <th>5</th>\n",
              "      <td>games</td>\n",
              "      <td>392353</td>\n",
              "    </tr>\n",
              "    <tr>\n",
              "      <th>6</th>\n",
              "      <td>players</td>\n",
              "      <td>369127</td>\n",
              "    </tr>\n",
              "    <tr>\n",
              "      <th>7</th>\n",
              "      <td>really</td>\n",
              "      <td>359752</td>\n",
              "    </tr>\n",
              "    <tr>\n",
              "      <th>8</th>\n",
              "      <td>played</td>\n",
              "      <td>353415</td>\n",
              "    </tr>\n",
              "    <tr>\n",
              "      <th>9</th>\n",
              "      <td>great</td>\n",
              "      <td>329474</td>\n",
              "    </tr>\n",
              "    <tr>\n",
              "      <th>10</th>\n",
              "      <td>just</td>\n",
              "      <td>325831</td>\n",
              "    </tr>\n",
              "    <tr>\n",
              "      <th>11</th>\n",
              "      <td>cards</td>\n",
              "      <td>318786</td>\n",
              "    </tr>\n",
              "    <tr>\n",
              "      <th>12</th>\n",
              "      <td>time</td>\n",
              "      <td>267260</td>\n",
              "    </tr>\n",
              "    <tr>\n",
              "      <th>13</th>\n",
              "      <td>player</td>\n",
              "      <td>243939</td>\n",
              "    </tr>\n",
              "    <tr>\n",
              "      <th>14</th>\n",
              "      <td>rules</td>\n",
              "      <td>206405</td>\n",
              "    </tr>\n",
              "    <tr>\n",
              "      <th>15</th>\n",
              "      <td>playing</td>\n",
              "      <td>205275</td>\n",
              "    </tr>\n",
              "    <tr>\n",
              "      <th>16</th>\n",
              "      <td>little</td>\n",
              "      <td>197550</td>\n",
              "    </tr>\n",
              "    <tr>\n",
              "      <th>17</th>\n",
              "      <td>card</td>\n",
              "      <td>196163</td>\n",
              "    </tr>\n",
              "    <tr>\n",
              "      <th>18</th>\n",
              "      <td>dont</td>\n",
              "      <td>194497</td>\n",
              "    </tr>\n",
              "    <tr>\n",
              "      <th>19</th>\n",
              "      <td>plays</td>\n",
              "      <td>190899</td>\n",
              "    </tr>\n",
              "    <tr>\n",
              "      <th>20</th>\n",
              "      <td>lot</td>\n",
              "      <td>186532</td>\n",
              "    </tr>\n",
              "    <tr>\n",
              "      <th>21</th>\n",
              "      <td>better</td>\n",
              "      <td>185508</td>\n",
              "    </tr>\n",
              "    <tr>\n",
              "      <th>22</th>\n",
              "      <td>theme</td>\n",
              "      <td>174505</td>\n",
              "    </tr>\n",
              "    <tr>\n",
              "      <th>23</th>\n",
              "      <td>bit</td>\n",
              "      <td>172440</td>\n",
              "    </tr>\n",
              "    <tr>\n",
              "      <th>24</th>\n",
              "      <td>interesting</td>\n",
              "      <td>169584</td>\n",
              "    </tr>\n",
              "    <tr>\n",
              "      <th>25</th>\n",
              "      <td>nice</td>\n",
              "      <td>165569</td>\n",
              "    </tr>\n",
              "    <tr>\n",
              "      <th>26</th>\n",
              "      <td>love</td>\n",
              "      <td>162851</td>\n",
              "    </tr>\n",
              "    <tr>\n",
              "      <th>27</th>\n",
              "      <td>think</td>\n",
              "      <td>162404</td>\n",
              "    </tr>\n",
              "    <tr>\n",
              "      <th>28</th>\n",
              "      <td>best</td>\n",
              "      <td>145424</td>\n",
              "    </tr>\n",
              "    <tr>\n",
              "      <th>29</th>\n",
              "      <td>simple</td>\n",
              "      <td>143521</td>\n",
              "    </tr>\n",
              "  </tbody>\n",
              "</table>\n",
              "</div>"
            ],
            "text/plain": [
              "     ReviewText    count\n",
              "0          game  2539119\n",
              "1          play   743697\n",
              "2          like   520940\n",
              "3           fun   517789\n",
              "4          good   398781\n",
              "5         games   392353\n",
              "6       players   369127\n",
              "7        really   359752\n",
              "8        played   353415\n",
              "9         great   329474\n",
              "10         just   325831\n",
              "11        cards   318786\n",
              "12         time   267260\n",
              "13       player   243939\n",
              "14        rules   206405\n",
              "15      playing   205275\n",
              "16       little   197550\n",
              "17         card   196163\n",
              "18         dont   194497\n",
              "19        plays   190899\n",
              "20          lot   186532\n",
              "21       better   185508\n",
              "22        theme   174505\n",
              "23          bit   172440\n",
              "24  interesting   169584\n",
              "25         nice   165569\n",
              "26         love   162851\n",
              "27        think   162404\n",
              "28         best   145424\n",
              "29       simple   143521"
            ]
          },
          "metadata": {
            "tags": []
          },
          "execution_count": 112
        }
      ]
    },
    {
      "cell_type": "code",
      "metadata": {
        "id": "K3ntWUt2icww",
        "colab_type": "code",
        "colab": {
          "base_uri": "https://localhost:8080/",
          "height": 323
        },
        "outputId": "733cae82-50fb-4942-99de-4b94484b3fcc"
      },
      "source": [
        "df2['ReviewText'].value_counts()[:30].plot(kind='bar',color=\"skyblue\")\n",
        "plt.xlabel('rating of review')\n",
        "plt.ylabel('number of reviews')\n",
        "plt.show()"
      ],
      "execution_count": 120,
      "outputs": [
        {
          "output_type": "display_data",
          "data": {
            "image/png": "[encoded data removed]",
            "text/plain": [
              "<Figure size 432x288 with 1 Axes>"
            ]
          },
          "metadata": {
            "tags": [],
            "needs_background": "light"
          }
        }
      ]
    },
    {
      "cell_type": "code",
      "metadata": {
        "id": "6PPeen5OqW1w",
        "colab_type": "code",
        "colab": {}
      },
      "source": [
        "#counting the number of ratings to each number\n",
        "from collections import Counter\n",
        "rate = df['rating'].values\n",
        "rate=rate.astype(int)"
      ],
      "execution_count": 0,
      "outputs": []
    },
    {
      "cell_type": "markdown",
      "metadata": {
        "id": "mqMTyoCjdZsA",
        "colab_type": "text"
      },
      "source": [
        "Our data is arranged such that all the ratings are in ascending order thus we need to shuffle the data before splitting into training and test sets"
      ]
    },
    {
      "cell_type": "code",
      "metadata": {
        "id": "EFbxtuJz9xIb",
        "colab_type": "code",
        "colab": {}
      },
      "source": [
        "df = df.sample(frac=1).reset_index(drop=True)"
      ],
      "execution_count": 0,
      "outputs": []
    },
    {
      "cell_type": "code",
      "metadata": {
        "id": "rLx2DH48kJBU",
        "colab_type": "code",
        "colab": {
          "base_uri": "https://localhost:8080/",
          "height": 139
        },
        "outputId": "335712db-f391-4360-bb4e-375341f596e9"
      },
      "source": [
        "df1=df.sample(n=16000)\n",
        "print(df1.count())"
      ],
      "execution_count": 44,
      "outputs": [
        {
          "output_type": "stream",
          "text": [
            "Unnamed: 0    16000\n",
            "user          16000\n",
            "rating        16000\n",
            "comment       16000\n",
            "ID            16000\n",
            "name          16000\n",
            "dtype: int64\n"
          ],
          "name": "stdout"
        }
      ]
    },
    {
      "cell_type": "markdown",
      "metadata": {
        "id": "vFO6JcJ1kUXW",
        "colab_type": "text"
      },
      "source": [
        "Assigning 'x' to the comment section and 'y' to the rating section of our data frame"
      ]
    },
    {
      "cell_type": "code",
      "metadata": {
        "id": "-QswNh48vpxV",
        "colab_type": "code",
        "colab": {}
      },
      "source": [
        "x=df1['comment'].values\n",
        "y=np.round(df1['rating'].values)"
      ],
      "execution_count": 0,
      "outputs": []
    },
    {
      "cell_type": "code",
      "metadata": {
        "id": "DNuGME8P954W",
        "colab_type": "code",
        "colab": {}
      },
      "source": [
        "from sklearn.model_selection import train_test_split\n",
        "X_train, X_test, y_train, y_test = train_test_split(x, y, test_size=0.3, random_state=42)"
      ],
      "execution_count": 0,
      "outputs": []
    },
    {
      "cell_type": "markdown",
      "metadata": {
        "id": "5vUp9CXjkgTJ",
        "colab_type": "text"
      },
      "source": [
        "Just a look at how our X_test looks. We need to vectorise the data because ML models require vector represenation of texts"
      ]
    },
    {
      "cell_type": "code",
      "metadata": {
        "id": "AW4J6ZWAkbJ3",
        "colab_type": "code",
        "outputId": "6aebfc13-4eef-4644-d6b1-9d12e337db2d",
        "colab": {
          "base_uri": "https://localhost:8080/",
          "height": 176
        }
      },
      "source": [
        "X_test"
      ],
      "execution_count": 47,
      "outputs": [
        {
          "output_type": "execute_result",
          "data": {
            "text/plain": [
              "array(['solo good players 8 3 players 65 4 players unplayable like wheel whitout classic boring card game unfortunately like control strategy play game player 34 uncontrollable strongly recommend play excellent materials',\n",
              "       'old town solo',\n",
              "       'neutral occasion huge toyparty value good production quality game merely ok feels like doesnt realize potentialof game idea suspect replayability novelty value',\n",
              "       ...,\n",
              "       'fun chillout warmup game simple rules allow quick learnasyouplay plenty replayability character significantly overpowering decent strategy simple game fun ages issue game elimination player left watch rest battle code fairplay fun stopping ganging single character player sit rest gametime',\n",
              "       'auction',\n",
              "       'great light dexterity game play kids definitely takes skill especially lanes like shallow troughs instead flat game equalized somewhat played 4 players making lane longer different ways play game nice supports 24 players'],\n",
              "      dtype=object)"
            ]
          },
          "metadata": {
            "tags": []
          },
          "execution_count": 47
        }
      ]
    },
    {
      "cell_type": "markdown",
      "metadata": {
        "id": "eCwOQhzjk2p8",
        "colab_type": "text"
      },
      "source": [
        "For textutal data to be processed it needs to be coverted into a vector matrix representation.But just calculating the count(or frequency) of the terms might result in percieving all the terms as equally important. The TF-IDF vectorizer attenuates the terms whose occurence is common and not of much relevance and gives importance to more relevant terms.Mathematically speaking Tf is ratio of number of times a word occurred in a document to the total number of words in the document. and IDF is the log of total docs divided by docs containing the word.\n",
        "\n",
        "![alt text](https://www.joyofdata.de/blog/wp-content/uploads/2014/02/tf-idf.png)"
      ]
    },
    {
      "cell_type": "markdown",
      "metadata": {
        "id": "cGt18mPWlO4E",
        "colab_type": "text"
      },
      "source": [
        "Vectorising the data "
      ]
    },
    {
      "cell_type": "code",
      "metadata": {
        "id": "Zez_vqUhk3mE",
        "colab_type": "code",
        "colab": {}
      },
      "source": [
        "vect = TfidfVectorizer(stop_words = 'english',max_df=0.7,max_features=10000)\n",
        "x_train_cv = vect.fit_transform(X_train)\n",
        "x_test_cv = vect.transform(X_test)"
      ],
      "execution_count": 0,
      "outputs": []
    },
    {
      "cell_type": "markdown",
      "metadata": {
        "id": "PsQyjTufkqRH",
        "colab_type": "text"
      },
      "source": [
        "Trying of the different ML modules now "
      ]
    },
    {
      "cell_type": "code",
      "metadata": {
        "id": "S9-r2E8yDEsD",
        "colab_type": "code",
        "colab": {}
      },
      "source": [
        "from sklearn.naive_bayes import MultinomialNB\n",
        "from sklearn.linear_model import RidgeClassifier\n",
        "from sklearn.neighbors import KNeighborsClassifier\n",
        "from sklearn.externals import joblib\n",
        "from sklearn.ensemble import VotingClassifier\n",
        "from sklearn.svm import SVC\n",
        "from sklearn.metrics import accuracy_score"
      ],
      "execution_count": 0,
      "outputs": []
    },
    {
      "cell_type": "code",
      "metadata": {
        "id": "189wDXkvBO3c",
        "colab_type": "code",
        "colab": {
          "base_uri": "https://localhost:8080/",
          "height": 35
        },
        "outputId": "016e0822-d903-416f-cc6d-54d5cb02c767"
      },
      "source": [
        "accuracy_all=[]\n",
        "print(accuracy_all)"
      ],
      "execution_count": 98,
      "outputs": [
        {
          "output_type": "stream",
          "text": [
            "[]\n"
          ],
          "name": "stdout"
        }
      ]
    },
    {
      "cell_type": "markdown",
      "metadata": {
        "id": "mdT4I_gtloQx",
        "colab_type": "text"
      },
      "source": [
        "Our first model is Multinomial Naive Bayes.\n",
        "One of the most simple Naive Bayes model is the Gaussian Naive Bayes model because it works under the assumption that the data is decribed by the Gaussian distribution but there is also Multinomial Naive Bayes that can be used to get the generative distribution within each label.Here the features are assumed to be generated from a simple multinomia distribution. It is suitale for features that have counts(like ratings in our data) because it describes the probability of observing count among number of various categories.\n",
        "\n",
        "$$\n",
        "P(c|d) =P(c) \\prod_{k=1}^n P(t_k|c)\n",
        "$$"
      ]
    },
    {
      "cell_type": "code",
      "metadata": {
        "id": "frYuoWRTYcx8",
        "colab_type": "code",
        "colab": {
          "base_uri": "https://localhost:8080/",
          "height": 35
        },
        "outputId": "1ddfc69f-1229-40e4-e924-f83d15587af6"
      },
      "source": [
        "#Implementing MultinomialNB\n",
        "model = MultinomialNB()\n",
        "model.fit(x_train_cv, y_train.astype('int'))\n",
        "value = model.predict(x_test_cv)\n",
        "accuracy_NB=accuracy_score(y_test,value)\n",
        "print(\"accuracy of Naive Bayes\",accuracy_NB)"
      ],
      "execution_count": 51,
      "outputs": [
        {
          "output_type": "stream",
          "text": [
            "accuracy of Naive Bayes 0.2914583333333333\n"
          ],
          "name": "stdout"
        }
      ]
    },
    {
      "cell_type": "code",
      "metadata": {
        "id": "yU5u9UN-KRfb",
        "colab_type": "code",
        "colab": {
          "base_uri": "https://localhost:8080/",
          "height": 279
        },
        "outputId": "74af745f-c52e-4ba9-c529-969f186e1ce4"
      },
      "source": [
        "\n",
        "disp=plot_confusion_matrix(model, x_test_cv, y_test)"
      ],
      "execution_count": 53,
      "outputs": [
        {
          "output_type": "display_data",
          "data": {
            "image/png": "[encoded data removed]",
            "text/plain": [
              "<Figure size 432x288 with 2 Axes>"
            ]
          },
          "metadata": {
            "tags": [],
            "needs_background": "light"
          }
        }
      ]
    },
    {
      "cell_type": "markdown",
      "metadata": {
        "id": "JLiS8kjaAs5f",
        "colab_type": "text"
      },
      "source": [
        "The next model we use is the Support Vector Machine methodolgy. SVM model is mostly used for discriminative classification as opposed to generative classification.We use the scikit learns SVM module to train our model."
      ]
    },
    {
      "cell_type": "markdown",
      "metadata": {
        "id": "O4xdXF0HEuha",
        "colab_type": "text"
      },
      "source": [
        "![alt text](https://upload.wikimedia.org/wikipedia/commons/thumb/7/72/SVM_margin.png/300px-SVM_margin.png)"
      ]
    },
    {
      "cell_type": "code",
      "metadata": {
        "id": "5tUWopLJiMbb",
        "colab_type": "code",
        "colab": {
          "base_uri": "https://localhost:8080/",
          "height": 35
        },
        "outputId": "e51c4078-77fa-4e13-c832-6fedc84dcffb"
      },
      "source": [
        "svm= SVC(kernel='linear',probability=True)\n",
        "svm.fit(x_train_cv,y_train)\n",
        "pred=svm.predict(x_test_cv)\n",
        "accuracy_svm=accuracy_score(y_test,pred)\n",
        "print(\"Accuracy of the SVC model:\",accuracy_svm)"
      ],
      "execution_count": 54,
      "outputs": [
        {
          "output_type": "stream",
          "text": [
            "Accuracy of the SVC model: 0.2975\n"
          ],
          "name": "stdout"
        }
      ]
    },
    {
      "cell_type": "markdown",
      "metadata": {
        "id": "ZUV_HzdZF1D-",
        "colab_type": "text"
      },
      "source": [
        "The next model we tested is the KNN model. It had the lowest accuracy among all other models.The k-nearest neighbors (KNN) algorithm is a supervised machine learning algorithm that can be used to solve both classification and regression problems.\n",
        "When we need to make a prediction, the k-most similar neighbors are located and an equivalent prediction is made. It is like forming a “majority vote” between the k most similar instances to a new unobserved instance. Similarity is the distance metric between two data points.\n",
        "\n",
        "![alt text](https://miro.medium.com/max/800/1*2zYNhLc522h0zftD1zDh2g.png)"
      ]
    },
    {
      "cell_type": "code",
      "metadata": {
        "id": "nNcPFQ139dDf",
        "colab_type": "code",
        "colab": {
          "base_uri": "https://localhost:8080/",
          "height": 35
        },
        "outputId": "3edd5aac-87ca-49ff-e7d9-13f6c77c04a8"
      },
      "source": [
        "kNN = KNeighborsClassifier(n_neighbors=7)\n",
        "kNN.fit(x_train_cv,y_train)\n",
        "pred_k = kNN.predict(x_test_cv)\n",
        "accuracy_knn = accuracy_score(y_test,pred_k)\n",
        "print('Accuracy of KNN model',accuracy_knn)"
      ],
      "execution_count": 101,
      "outputs": [
        {
          "output_type": "stream",
          "text": [
            "Accuracy of KNN model 0.21916666666666668\n"
          ],
          "name": "stdout"
        }
      ]
    },
    {
      "cell_type": "code",
      "metadata": {
        "id": "neQzdxeNiMzr",
        "colab_type": "code",
        "colab": {
          "base_uri": "https://localhost:8080/",
          "height": 35
        },
        "outputId": "1fbc1d46-4500-475e-9740-6fc001e42e4b"
      },
      "source": [
        "clf=RidgeClassifier()\n",
        "clf.fit(x_train_cv,y_train)\n",
        "pred1=clf.predict(x_test_cv)\n",
        "accuracy_ridge=accuracy_score(y_test,pred1)\n",
        "print(\"Accuracy of the ridge classifier\",accuracy_ridge)"
      ],
      "execution_count": 57,
      "outputs": [
        {
          "output_type": "stream",
          "text": [
            "Accuracy of the ridge classifier 0.2833333333333333\n"
          ],
          "name": "stdout"
        }
      ]
    },
    {
      "cell_type": "code",
      "metadata": {
        "id": "-c_1XzVM8jIl",
        "colab_type": "code",
        "colab": {}
      },
      "source": [
        "accuracy_all.append(accuracy_NB)\n",
        "accuracy_all.append(accuracy_svm)\n",
        "accuracy_all.append(accuracy_ridge)\n",
        "accuracy_all.append(accuracy_knn)"
      ],
      "execution_count": 0,
      "outputs": []
    },
    {
      "cell_type": "code",
      "metadata": {
        "id": "LLWF4M8_sOje",
        "colab_type": "code",
        "colab": {
          "base_uri": "https://localhost:8080/",
          "height": 340
        },
        "outputId": "00327bd6-c8ec-4030-c58f-74d452fbfa8b"
      },
      "source": [
        "import matplotlib.pyplot as plt\n",
        "fig = plt.figure()\n",
        "ax = fig.add_axes([0,0,1,1])\n",
        "langs = ['NB', 'SVM', 'Ridge','KNN']\n",
        "students = accuracy_all\n",
        "ax.bar(langs,students)\n",
        "plt.ylim(0,0.4,0.01)\n",
        "plt.show()"
      ],
      "execution_count": 103,
      "outputs": [
        {
          "output_type": "display_data",
          "data": {
            "image/png": "[encoded data removed]",
            "text/plain": [
              "<Figure size 432x288 with 1 Axes>"
            ]
          },
          "metadata": {
            "tags": [],
            "needs_background": "light"
          }
        }
      ]
    },
    {
      "cell_type": "markdown",
      "metadata": {
        "id": "ck16FpAiv8RT",
        "colab_type": "text"
      },
      "source": [
        "We see that almost all the classifiers have the same accuraccy and even though SVM performs better , it takes a lot of time to process even on small datasets\n",
        "<h1>Contribution</h1>\n",
        "Applying smoothing to our classifier and relaxing the problem can get us a better accuracy.\n",
        "We have a broad range of classes from 1 to 10. Smoothing is applied by allowing a difference of 1 between the predicted and the target classes"
      ]
    },
    {
      "cell_type": "code",
      "metadata": {
        "id": "3Eufg8itwWOp",
        "colab_type": "code",
        "colab": {}
      },
      "source": [
        "def smoothing(predicted,actual):\n",
        "  counter=0\n",
        "  for i in range(len(predicted)):\n",
        "    if(predicted[i]-actual[i]<2):\n",
        "      counter+=1\n",
        "  return counter/len(predicted)"
      ],
      "execution_count": 0,
      "outputs": []
    },
    {
      "cell_type": "code",
      "metadata": {
        "id": "th7_FACpxdSp",
        "colab_type": "code",
        "colab": {
          "base_uri": "https://localhost:8080/",
          "height": 87
        },
        "outputId": "1991e9e5-a9c2-4e99-9a25-d201ba5dc5e6"
      },
      "source": [
        "acc_nb_smooth=smoothing(value,y_test)\n",
        "acc_svm_smooth=smoothing(pred,y_test)\n",
        "acc_ridge_smooth=smoothing(pred1,y_test)\n",
        "acc_knn_smooth=smoothing(pred_k,y_test)\n",
        "print(acc_nb_smooth)\n",
        "print(acc_svm_smooth)\n",
        "print(acc_ridge_smooth)\n",
        "print(acc_knn_smooth)"
      ],
      "execution_count": 104,
      "outputs": [
        {
          "output_type": "stream",
          "text": [
            "0.7316666666666667\n",
            "0.7908333333333334\n",
            "0.78125\n",
            "0.783125\n"
          ],
          "name": "stdout"
        }
      ]
    },
    {
      "cell_type": "code",
      "metadata": {
        "id": "IHi_jaxk8ppn",
        "colab_type": "code",
        "colab": {}
      },
      "source": [
        "accuracy_smooth=[]\n"
      ],
      "execution_count": 0,
      "outputs": []
    },
    {
      "cell_type": "code",
      "metadata": {
        "id": "r3KiXKi2_7Qg",
        "colab_type": "code",
        "colab": {}
      },
      "source": [
        "accuracy_smooth.append(accuracy_NB)\n",
        "accuracy_smooth.append(acc_nb_smooth)\n",
        "accuracy_smooth.append(accuracy_svm)\n",
        "accuracy_smooth.append(acc_svm_smooth)\n",
        "accuracy_smooth.append(accuracy_ridge)\n",
        "accuracy_smooth.append(acc_ridge_smooth)\n",
        "accuracy_smooth.append(accuracy_knn)\n",
        "accuracy_smooth.append(acc_knn_smooth)"
      ],
      "execution_count": 0,
      "outputs": []
    },
    {
      "cell_type": "code",
      "metadata": {
        "id": "MeFiyQ7Yxddf",
        "colab_type": "code",
        "colab": {
          "base_uri": "https://localhost:8080/",
          "height": 340
        },
        "outputId": "b5e00298-a188-4bb9-f204-89ecdc483e63"
      },
      "source": [
        "fig = plt.figure()\n",
        "ax = fig.add_axes([0,0,1,1])\n",
        "langs = ['NB','NBS','svm','svmS','rig','rigS','knn','knnS']\n",
        "students = accuracy_smooth\n",
        "ax.bar(langs,students)\n",
        "plt.ylim(0,1)\n",
        "plt.show()"
      ],
      "execution_count": 114,
      "outputs": [
        {
          "output_type": "display_data",
          "data": {
            "image/png": "[encoded data removed]",
            "text/plain": [
              "<Figure size 432x288 with 1 Axes>"
            ]
          },
          "metadata": {
            "tags": [],
            "needs_background": "light"
          }
        }
      ]
    },
    {
      "cell_type": "code",
      "metadata": {
        "id": "JWc6D5mpDN0A",
        "colab_type": "code",
        "colab": {}
      },
      "source": [
        "Ensemble = VotingClassifier(estimators=[('Linear',svm), ('Nb',model)])"
      ],
      "execution_count": 0,
      "outputs": []
    },
    {
      "cell_type": "code",
      "metadata": {
        "id": "tUj82tAoOevU",
        "colab_type": "code",
        "colab": {
          "base_uri": "https://localhost:8080/",
          "height": 225
        },
        "outputId": "6f45aa22-ac0a-4ce6-f7a5-a3f3627627ed"
      },
      "source": [
        "Ensemble.fit(x_train_cv,y_train)"
      ],
      "execution_count": 87,
      "outputs": [
        {
          "output_type": "execute_result",
          "data": {
            "text/plain": [
              "VotingClassifier(estimators=[('Linear',\n",
              "                              SVC(C=1.0, break_ties=False, cache_size=200,\n",
              "                                  class_weight=None, coef0=0.0,\n",
              "                                  decision_function_shape='ovr', degree=3,\n",
              "                                  gamma='scale', kernel='linear', max_iter=-1,\n",
              "                                  probability=True, random_state=None,\n",
              "                                  shrinking=True, tol=0.001, verbose=False)),\n",
              "                             ('Nb',\n",
              "                              MultinomialNB(alpha=1.0, class_prior=None,\n",
              "                                            fit_prior=True))],\n",
              "                 flatten_transform=True, n_jobs=None, voting='hard',\n",
              "                 weights=None)"
            ]
          },
          "metadata": {
            "tags": []
          },
          "execution_count": 87
        }
      ]
    },
    {
      "cell_type": "code",
      "metadata": {
        "id": "Xmdg2SAROsEL",
        "colab_type": "code",
        "colab": {}
      },
      "source": [
        "e_pred=Ensemble.predict(x_test_cv)"
      ],
      "execution_count": 0,
      "outputs": []
    },
    {
      "cell_type": "code",
      "metadata": {
        "id": "Ya4MkVNsOzre",
        "colab_type": "code",
        "colab": {
          "base_uri": "https://localhost:8080/",
          "height": 52
        },
        "outputId": "be7e61c0-d684-46e6-df10-b83efe9432bf"
      },
      "source": [
        "acc3=accuracy_score(e_pred,y_test)\n",
        "print(acc3)\n",
        "acc3_smooth=smoothing(e_pred,y_test)\n",
        "print(acc3_smooth)"
      ],
      "execution_count": 93,
      "outputs": [
        {
          "output_type": "stream",
          "text": [
            "0.29854166666666665\n",
            "0.7979166666666667\n"
          ],
          "name": "stdout"
        }
      ]
    }
  ]
}